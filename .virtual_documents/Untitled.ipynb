import os
import pandas as pd
import numpy as np

pd.set_option('mode.chained_assignment', None)


df = pd.read_csv('제주특별자치도_태양광발전소현황_20240630.csv', encoding = 'cp949')
df.head(1)


df.info()


#사업개시일이 있는 데이터만 골라낸다.
#사업개시일이 없는 데이터는 아직 인허가가 진행중이므로 drop한다.
df = df.dropna(axis = 0)
df


# 사업개시일이 기록되었는데 상태가 '공사진행', '인허가'인 경우
df[df['상태'] != '사업개시']
#모든 상태가 사업개시인 상태이므로 추가 수정 불필요


#사업개시일을 시간순으로 정렬하기 위해 문자열타입에서 datetime타입으로 변경해준다.
df['사업개시일'] = pd.to_datetime(df['사업개시일'])
#sort_values함수를 이용해 사업개시일 컬럼값을 기준으로 정렬한다.
df.sort_values(by = '사업개시일', inplace = True)

#데이터프레임의 인데스를 새롭게 생성한다.
df.reset_index(drop = True, inplace = True)


# 파일명에는 태양광 발전소 현황이지만 태양광만이 아닌 다른 에너지 발전소 전체의 정보가 포함되어 있음
# 상호만으로 태양광 정보를 걸러내기에는 무리가 있어보임.
# 원동력종류가 표기된 파일을 추가로 다운받는다.

df2 = pd.read_csv('제주특별자치도_신재생에너지발전시설현황_20221116.csv', encoding = 'cp949')
df2['원동력종류']


#원동력 종류에서 태양광만 추출하기
df2 = df2[df2['원동력종류'] == '태양광']
df2.reset_index(drop = True, inplace = True)
df2


#주소가 중복되는 경우 하나만 출력하기 위해 unique()함수를 사용합니다.
geo_addr = df2['설치장소'].unique()

geo_pos = []

#위도와 경도로 변환시 주소에 '시'가 포함되어 있으면 정상작동 안하기에 '시'를 공백으로대체
for addr in geo_addr:
    geo_pos.append(addr.replace('시',''))

print(geo_pos)


#주소값을 geopy패키지를 활용하여 경도와 위도 값을 얻는 함수를 만든다.
from geopy.geocoders import Nominatim

unique_addr = []
unique_lat = []
unique_lng = []

def geocoding(address):
    geolocoder = Nomination
